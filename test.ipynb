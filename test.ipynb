{
 "cells": [
  {
   "cell_type": "code",
   "execution_count": 2,
   "metadata": {},
   "outputs": [
    {
     "data": {
      "text/plain": [
       "[{'score': 0.0708925724029541,\n",
       "  'token': 1221,\n",
       "  'token_str': ' Australia',\n",
       "  'sequence': \"Hello I'm a from Australia.\"},\n",
       " {'score': 0.04643505439162254,\n",
       "  'token': 928,\n",
       "  'token_str': ' London',\n",
       "  'sequence': \"Hello I'm a from London.\"},\n",
       " {'score': 0.04221288114786148,\n",
       "  'token': 666,\n",
       "  'token_str': ' India',\n",
       "  'sequence': \"Hello I'm a from India.\"},\n",
       " {'score': 0.04208120331168175,\n",
       "  'token': 1156,\n",
       "  'token_str': ' England',\n",
       "  'sequence': \"Hello I'm a from England.\"},\n",
       " {'score': 0.03745807707309723,\n",
       "  'token': 896,\n",
       "  'token_str': ' Canada',\n",
       "  'sequence': \"Hello I'm a from Canada.\"}]"
      ]
     },
     "execution_count": 2,
     "metadata": {},
     "output_type": "execute_result"
    }
   ],
   "source": [
    "from transformers import pipeline\n",
    "unmasker = pipeline('fill-mask', model='roberta-large')\n",
    "unmasker(\"Hello I'm a from <mask>.\")"
   ]
  }
 ],
 "metadata": {
  "kernelspec": {
   "display_name": "Python 3.9.13 ('recycle-lm')",
   "language": "python",
   "name": "python3"
  },
  "language_info": {
   "codemirror_mode": {
    "name": "ipython",
    "version": 3
   },
   "file_extension": ".py",
   "mimetype": "text/x-python",
   "name": "python",
   "nbconvert_exporter": "python",
   "pygments_lexer": "ipython3",
   "version": "3.9.13"
  },
  "orig_nbformat": 4,
  "vscode": {
   "interpreter": {
    "hash": "6e93d2b9d6252d2f18327d4c54c95f31e3948126a75a98c7c478a366144681bd"
   }
  }
 },
 "nbformat": 4,
 "nbformat_minor": 2
}
